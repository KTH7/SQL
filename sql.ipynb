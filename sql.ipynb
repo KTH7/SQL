{
 "cells": [
  {
   "cell_type": "markdown",
   "metadata": {},
   "source": [
    "1. mysql 연결하기            연결자=pymysql.commect(연결옵션)\n",
    "2. 커서 생성하기             커서이름=연결자.cursor()\n",
    "3. 테이블 만들기             커서이름.execute(\"CREATE TABLE 문장\")\n",
    "4. 데이터 입력하기           커서이름.execute(\"INSERT INTO 문장\")\n",
    "5. 입력한 데이터 저장하기    연결자.commit()\n",
    "6. mysql 연결 종료하기       연결자.close() "
   ]
  },
  {
   "cell_type": "code",
   "execution_count": 1,
   "metadata": {},
   "outputs": [],
   "source": [
    "import pymysql"
   ]
  },
  {
   "cell_type": "code",
   "execution_count": 2,
   "metadata": {},
   "outputs": [],
   "source": [
    "conn=pymysql.connect(host='127.0.0.1',user='root',password='1234',db='soloDB',charset='utf8')\n",
    "cur=conn.cursor()\n",
    "# cur.execute(\"DROP TABLE userTable\")"
   ]
  },
  {
   "cell_type": "code",
   "execution_count": 4,
   "metadata": {},
   "outputs": [
    {
     "data": {
      "text/plain": [
       "0"
      ]
     },
     "execution_count": 4,
     "metadata": {},
     "output_type": "execute_result"
    }
   ],
   "source": [
    "cur.execute(\"CREATE TABLE userTable (id char(4),userName char(15), email char(20),birthYear int)\")"
   ]
  },
  {
   "cell_type": "code",
   "execution_count": 6,
   "metadata": {},
   "outputs": [
    {
     "data": {
      "text/plain": [
       "1"
      ]
     },
     "execution_count": 6,
     "metadata": {},
     "output_type": "execute_result"
    }
   ],
   "source": [
    "cur.execute(\"INSERT INTO userTable Values('hong','홍지윤','hong@naver.com',1996)\")\n",
    "cur.execute(\"INSERT INTO userTable Values('kim','김태연','kim@daum.net',2011)\")\n",
    "cur.execute(\"INSERT INTO userTable Values('star','별사랑','star@oaran.com',1990)\")\n",
    "cur.execute(\"INSERT INTO userTable Values('yang','양지은','@gmail.com',1993)\")\n"
   ]
  },
  {
   "cell_type": "code",
   "execution_count": 7,
   "metadata": {},
   "outputs": [
    {
     "name": "stdout",
     "output_type": "stream",
     "text": [
      "(('hong', '홍지윤', 'hong@naver.com', 1996), ('kim', '김태연', 'kim@daum.net', 2011), ('star', '별사랑', 'star@oaran.com', 1990), ('yang', '양지은', '@gmail.com', 1993))\n"
     ]
    }
   ],
   "source": [
    "cur.execute(\"SELECT * FROM userTable\")\n",
    "result=cur.fetchall()\n",
    "print(result)"
   ]
  },
  {
   "cell_type": "code",
   "execution_count": 8,
   "metadata": {},
   "outputs": [],
   "source": [
    "conn.commit()\n",
    "# conn.close()"
   ]
  },
  {
   "cell_type": "code",
   "execution_count": null,
   "metadata": {},
   "outputs": [],
   "source": [
    "import pymysql"
   ]
  },
  {
   "cell_type": "code",
   "execution_count": 8,
   "metadata": {},
   "outputs": [],
   "source": [
    "# 전역변수 선언부\n",
    "conn, cur= None,None\n",
    "data1,data2,data3,data4=\"\",\"\",\"\",\"\"\n",
    "sql=\"\"\n"
   ]
  },
  {
   "cell_type": "code",
   "execution_count": 9,
   "metadata": {},
   "outputs": [],
   "source": [
    "#메인코드\n",
    "conn=pymysql.connect(host='127.0.0.1',user='root',password='1234',db='soloDB',charset='utf8')\n",
    "cur=conn.cursor()"
   ]
  },
  {
   "cell_type": "code",
   "execution_count": 27,
   "metadata": {},
   "outputs": [],
   "source": [
    "while(True):\n",
    "    data1=input(\"사용자 ID==>\")\n",
    "    if data1 == \"\":\n",
    "        break;\n",
    "    data2=input(\"사용자 이름==>\")\n",
    "    data3=input(\"사용자 이메일==>\")\n",
    "    data4=input(\"사용자 출생연도==>\")\n",
    "    sql=\"INSERT INTO userTable VALUES('\"+data1+\"','\"+data2+\"','\"+data3+\"',\"+data4+\")\"\n",
    "    cur.execute(sql)\n",
    "    \n",
    "conn.commit()\n",
    "conn.close()"
   ]
  },
  {
   "cell_type": "code",
   "execution_count": 8,
   "metadata": {},
   "outputs": [
    {
     "name": "stdout",
     "output_type": "stream",
     "text": [
      "사용자ID   사용자이름   이메일   출생연도\n",
      "------------------------------------------\n"
     ]
    }
   ],
   "source": [
    "# 전역변수 선언부\n",
    "conn, cur= None,None\n",
    "data1,data2,data3,data4=\"\",\"\",\"\",\"\"\n",
    "row=None\n",
    "\n",
    "#메인코드\n",
    "conn=pymysql.connect(host='127.0.0.1',user='root',password='1234',db='soloDB',charset='utf8')\n",
    "cur=conn.cursor()\n",
    "\n",
    "cur.execute(\"SELECT * FROM userTable\")\n",
    "\n",
    "print(\"사용자ID   사용자이름   이메일   출생연도\")\n",
    "print(\"------------------------------------------\")\n",
    "\n",
    "while(True):\n",
    "    row=cur.fetchone()\n",
    "    if row==None:\n",
    "        break\n",
    "    data1=row[0]\n",
    "    data2=row[1]\n",
    "    data3=row[2]\n",
    "    data4=row[3]\n",
    "    print(\"%5s    %15s    %20s    %d\" %(data1,data2,data3,data4))\n",
    "conn.close()"
   ]
  },
  {
   "cell_type": "code",
   "execution_count": 1,
   "metadata": {},
   "outputs": [],
   "source": [
    "from tkinter import *"
   ]
  },
  {
   "cell_type": "code",
   "execution_count": 2,
   "metadata": {},
   "outputs": [
    {
     "data": {
      "text/plain": [
       "''"
      ]
     },
     "execution_count": 2,
     "metadata": {},
     "output_type": "execute_result"
    }
   ],
   "source": [
    "root=Tk()\n",
    "root.title(\"혼공 GUI 연습\")\n",
    "root.geometry(\"400x200\")"
   ]
  },
  {
   "cell_type": "code",
   "execution_count": 3,
   "metadata": {},
   "outputs": [],
   "source": [
    "root.mainloop()"
   ]
  },
  {
   "cell_type": "code",
   "execution_count": 4,
   "metadata": {},
   "outputs": [],
   "source": [
    "root=Tk()\n",
    "root.geometry(\"300x100\")\n",
    "\n",
    "label1=Label(root,text=\"혼공 SQL은\")\n",
    "label2=Label(root,text=\"쉽습니다.\",font=(\"궁서체\",30),bg=\"blue\",fg=\"yellow\")\n",
    "\n",
    "label1.pack()\n",
    "label2.pack()\n",
    "\n",
    "root.mainloop()\n",
    "             \n",
    "             "
   ]
  },
  {
   "cell_type": "code",
   "execution_count": 5,
   "metadata": {},
   "outputs": [],
   "source": [
    "from tkinter import *\n",
    "from tkinter import messagebox\n",
    "\n",
    "def clickButton():\n",
    "    messagebox.showinfo(\"버튼클릭\",\"버튼을 눌렀습니다.\")\n",
    "    \n",
    "root=Tk()\n",
    "root.geometry(\"200x200\")\n",
    "\n",
    "button1=Button(root,text=\"여기를 클릭하세요\",fg='red',bg=\"yellow\",command=clickButton)\n",
    "button1.pack(expand=1)\n",
    "\n",
    "root.mainloop()"
   ]
  },
  {
   "cell_type": "code",
   "execution_count": 9,
   "metadata": {},
   "outputs": [],
   "source": [
    "root=Tk()\n",
    "\n",
    "button1=Button(root,text=\"혼공1\")\n",
    "button2=Button(root,text=\"혼공2\")\n",
    "button3=Button(root,text=\"혼공3\")\n",
    "\n",
    "button1.pack(side=TOP)\n",
    "button2.pack(side=TOP)\n",
    "button3.pack(side=BOTTOM)\n",
    "\n",
    "root.mainloop()"
   ]
  },
  {
   "cell_type": "code",
   "execution_count": 11,
   "metadata": {},
   "outputs": [],
   "source": [
    "root=Tk()\n",
    "\n",
    "button1=Button(root,text=\"혼공1\")\n",
    "button2=Button(root,text=\"혼공2\")\n",
    "button3=Button(root,text=\"혼공3\")\n",
    "\n",
    "button1.pack(side=TOP,fill=X,padx=10,pady=10)\n",
    "button2.pack(side=TOP,fill=X,padx=10,pady=10)\n",
    "button3.pack(side=TOP,fill=X,padx=10,pady=10)\n",
    "\n",
    "root.mainloop()"
   ]
  },
  {
   "cell_type": "code",
   "execution_count": 10,
   "metadata": {},
   "outputs": [],
   "source": [
    "root=Tk()\n",
    "root.geometry(\"200x250\")\n",
    "\n",
    "upFrame=Frame(root)\n",
    "upFrame.pack()\n",
    "downFrame=Frame(root)\n",
    "downFrame.pack()\n",
    "\n",
    "editBox=Entry(upFrame,width=10,)\n",
    "editBox.pack(padx=20,pady=20)\n",
    "\n",
    "listbox=Listbox(downFrame,bg='yellow');\n",
    "listbox.pack()\n",
    "\n",
    "listbox.insert(END,\"하나\")\n",
    "listbox.insert(END,\"둘\")\n",
    "listbox.insert(END,\"셋\")\n",
    "\n",
    "root.mainloop()"
   ]
  },
  {
   "cell_type": "code",
   "execution_count": 9,
   "metadata": {},
   "outputs": [],
   "source": [
    "import pymysql\n",
    "from tkinter import *\n",
    "from tkinter import messagebox\n",
    "\n",
    "#메인 코드부\n",
    "def insertData():\n",
    "    conn, cur= None,None\n",
    "    data1,data2,data3,data4=\"\",\"\",\"\",\"\"\n",
    "    sql=\"\"\n",
    "\n",
    "    conn=pymysql.connect(host='127.0.0.1',user='root',password='1234',db='soloDB',charset='utf8')\n",
    "    cur=conn.cursor()\n",
    "\n",
    "    data1=edt1.get(); data2=edt2.get();data3=edt3.get();data4=edt4.get()\n",
    "    sql=\"INSERT INTO userTable VALUES('\"+data1+\"','\"+data2+\"','\"+data3+\"',\"+data4+\")\"\n",
    "    cur.execute(sql)\n",
    "\n",
    "    conn.commit()\n",
    "    conn.close()\n",
    "    \n",
    "    messagebox.showinfo(\"성공\",\"데이터 입력 성공\")\n",
    "    \n",
    "def selectData():\n",
    "    strData1,strData2,strData3,strData4=[],[],[],[]\n",
    "    \n",
    "    conn=pymysql.connect(host='127.0.0.1',user='root',password='1234',db='soloDB',charset='utf8')\n",
    "    cur = conn.cursor()\n",
    "    cur.execute(\"SELECT * FROM userTable\")\n",
    "    \n",
    "    strData1.append(\"사용자 ID\"); strData2.append(\"사용자 이름\"); strData3.append(\"사용자 이메일\"); strData4.append(\"사용자 출생연도\")\n",
    "    strData1.append(\"---------\"); strData2.append(\"---------\"); strData3.append(\"---------\"); strData4.append(\"---------\")\n",
    "    \n",
    "    while(True):\n",
    "        row=cur.fetchone()\n",
    "        if row==None:\n",
    "            break;\n",
    "        strData1.append(row[0]);  strData2.append(row[1]);  strData3.append(row[2]);  strData4.append(row[3])\n",
    "    listData1.delete(0,listData1.size()-1); listData2.delete(0,listData2.size()-1); listData3.delete(0,listData3.size()-1); listData4.delete(0,listData4.size()-1)\n",
    "    \n",
    "    for item1,item2,item3,item4 in zip (strData1,strData2,strData3,strData4):\n",
    "        listData1.insert(END,item1); listData2.insert(END,item2); listData3.insert(END,item3); listData4.insert(END,item4)\n",
    "    \n",
    "    conn.close()\n",
    "        "
   ]
  },
  {
   "cell_type": "code",
   "execution_count": 11,
   "metadata": {},
   "outputs": [
    {
     "name": "stderr",
     "output_type": "stream",
     "text": [
      "Exception in Tkinter callback\n",
      "Traceback (most recent call last):\n",
      "  File \"c:\\Users\\taehwan\\AppData\\Local\\Programs\\Python\\Python310\\lib\\tkinter\\__init__.py\", line 1921, in __call__\n",
      "    return self.func(*args)\n",
      "  File \"C:\\Users\\taehwan\\AppData\\Local\\Temp\\ipykernel_6592\\2396738487.py\", line 16, in insertData\n",
      "    cur.execute(sql)\n",
      "  File \"c:\\Users\\taehwan\\AppData\\Local\\Programs\\Python\\Python310\\lib\\site-packages\\pymysql\\cursors.py\", line 148, in execute\n",
      "    result = self._query(query)\n",
      "  File \"c:\\Users\\taehwan\\AppData\\Local\\Programs\\Python\\Python310\\lib\\site-packages\\pymysql\\cursors.py\", line 310, in _query\n",
      "    conn.query(q)\n",
      "  File \"c:\\Users\\taehwan\\AppData\\Local\\Programs\\Python\\Python310\\lib\\site-packages\\pymysql\\connections.py\", line 548, in query\n",
      "    self._affected_rows = self._read_query_result(unbuffered=unbuffered)\n",
      "  File \"c:\\Users\\taehwan\\AppData\\Local\\Programs\\Python\\Python310\\lib\\site-packages\\pymysql\\connections.py\", line 775, in _read_query_result\n",
      "    result.read()\n",
      "  File \"c:\\Users\\taehwan\\AppData\\Local\\Programs\\Python\\Python310\\lib\\site-packages\\pymysql\\connections.py\", line 1156, in read\n",
      "    first_packet = self.connection._read_packet()\n",
      "  File \"c:\\Users\\taehwan\\AppData\\Local\\Programs\\Python\\Python310\\lib\\site-packages\\pymysql\\connections.py\", line 725, in _read_packet\n",
      "    packet.raise_for_error()\n",
      "  File \"c:\\Users\\taehwan\\AppData\\Local\\Programs\\Python\\Python310\\lib\\site-packages\\pymysql\\protocol.py\", line 221, in raise_for_error\n",
      "    err.raise_mysql_exception(self._data)\n",
      "  File \"c:\\Users\\taehwan\\AppData\\Local\\Programs\\Python\\Python310\\lib\\site-packages\\pymysql\\err.py\", line 143, in raise_mysql_exception\n",
      "    raise errorclass(errno, errval)\n",
      "pymysql.err.ProgrammingError: (1064, \"You have an error in your SQL syntax; check the manual that corresponds to your MySQL server version for the right syntax to use near ')' at line 1\")\n"
     ]
    }
   ],
   "source": [
    "root=Tk()\n",
    "root.geometry(\"600x300\")\n",
    "root.title(\"완전한 GUI 응용 프로그램\")\n",
    "\n",
    "edtFrame=Frame(root);\n",
    "edtFrame.pack()\n",
    "listFrame=Frame(root)\n",
    "listFrame.pack(side=BOTTOM,fill=BOTH,expand=1)\n",
    "\n",
    "edt1=Entry(edtFrame,width=10);  edt1.pack(side=LEFT,padx=10,pady=10)\n",
    "edt2=Entry(edtFrame,width=10);  edt2.pack(side=LEFT,padx=10,pady=10)\n",
    "edt3=Entry(edtFrame,width=10);  edt3.pack(side=LEFT,padx=10,pady=10)\n",
    "edt4=Entry(edtFrame,width=10);  edt4.pack(side=LEFT,padx=10,pady=10)\n",
    "\n",
    "btnInsert=Button(edtFrame,text=\"입력\",command=insertData)\n",
    "btnInsert.pack(side=LEFT,padx=10,pady=10)\n",
    "btnSelect=Button(edtFrame,text=\"조회\",command=selectData)\n",
    "btnSelect.pack(side=LEFT,padx=10,pady=10)\n",
    "\n",
    "listData1=Listbox(listFrame,bg=\"yellow\");\n",
    "listData1.pack(side=LEFT,fill=BOTH,expand=1)\n",
    "listData2=Listbox(listFrame,bg=\"yellow\");\n",
    "listData2.pack(side=LEFT,fill=BOTH,expand=1)\n",
    "listData3=Listbox(listFrame,bg=\"yellow\");\n",
    "listData3.pack(side=LEFT,fill=BOTH,expand=1)\n",
    "listData4=Listbox(listFrame,bg=\"yellow\");\n",
    "listData4.pack(side=LEFT,fill=BOTH,expand=1)\n",
    "\n",
    "root.mainloop()"
   ]
  }
 ],
 "metadata": {
  "kernelspec": {
   "display_name": "Python 3.10.4 64-bit",
   "language": "python",
   "name": "python3"
  },
  "language_info": {
   "codemirror_mode": {
    "name": "ipython",
    "version": 3
   },
   "file_extension": ".py",
   "mimetype": "text/x-python",
   "name": "python",
   "nbconvert_exporter": "python",
   "pygments_lexer": "ipython3",
   "version": "3.10.4"
  },
  "orig_nbformat": 4,
  "vscode": {
   "interpreter": {
    "hash": "73d70afa6ea69e9144526a6a5401599dec7b759b7060f809f68e57a7e0099458"
   }
  }
 },
 "nbformat": 4,
 "nbformat_minor": 2
}
